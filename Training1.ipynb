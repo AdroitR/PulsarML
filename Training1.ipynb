{
 "cells": [
  {
   "cell_type": "code",
   "execution_count": 1,
   "metadata": {
    "scrolled": false
   },
   "outputs": [
    {
     "name": "stderr",
     "output_type": "stream",
     "text": [
      "Using TensorFlow backend.\n"
     ]
    }
   ],
   "source": [
    "import os\n",
    "import numpy as np\n",
    "from keras.models import Sequential\n",
    "from keras.layers import Activation, Dropout, Flatten, Dense\n",
    "from keras.preprocessing.image import ImageDataGenerator\n",
    "from keras.layers import Convolution2D, MaxPooling2D, ZeroPadding2D\n",
    "from keras import optimizers\n",
    "from keras.preprocessing import image\n",
    "import cv2"
   ]
  },
  {
   "cell_type": "code",
   "execution_count": 20,
   "metadata": {
    "scrolled": false
   },
   "outputs": [],
   "source": [
    "img_width, img_height = 160, 275\n",
    "\n",
    "train_data_dir = 'data/train'\n",
    "validation_data_dir = 'data/validation'"
   ]
  },
  {
   "cell_type": "code",
   "execution_count": 21,
   "metadata": {
    "scrolled": false
   },
   "outputs": [
    {
     "name": "stdout",
     "output_type": "stream",
     "text": [
      "Found 340 images belonging to 2 classes.\n",
      "Found 72 images belonging to 2 classes.\n"
     ]
    }
   ],
   "source": [
    "# used to rescale the pixel values from [0, 255] to [0, 1] interval\n",
    "datagen = ImageDataGenerator(rescale=1./255)\n",
    "\n",
    "# automagically retrieve images and their classes for train and validation sets\n",
    "train_generator = datagen.flow_from_directory(\n",
    "        train_data_dir,\n",
    "        target_size=(img_width, img_height),\n",
    "   batch_size=32,\n",
    "        class_mode='binary')\n",
    "\n",
    "validation_generator = datagen.flow_from_directory(\n",
    "        validation_data_dir,\n",
    "        target_size=(img_width, img_height),\n",
    "        batch_size=16,\n",
    "        class_mode='binary')"
   ]
  },
  {
   "cell_type": "code",
   "execution_count": 22,
   "metadata": {
    "scrolled": false
   },
   "outputs": [],
   "source": [
    "\n",
    "model = Sequential()\n",
    "model.add(Convolution2D(32, (3, 3), input_shape=(img_width, img_height,3)))\n",
    "model.add(Activation('relu'))\n",
    "model.add(MaxPooling2D(pool_size=(2, 2)))\n",
    "\n",
    "model.add(Convolution2D(32, (3, 3)))\n",
    "model.add(Activation('relu'))\n",
    "model.add(MaxPooling2D(pool_size=(2, 2)))\n",
    "\n",
    "model.add(Convolution2D(64, (3, 3)))\n",
    "model.add(Activation('relu'))\n",
    "model.add(MaxPooling2D(pool_size=(2, 2)))\n",
    "\n",
    "model.add(Convolution2D(64, (3, 3)))\n",
    "model.add(Activation('relu'))\n",
    "model.add(MaxPooling2D(pool_size=(2, 2)))\n",
    "\n",
    "model.add(Flatten())\n",
    "model.add(Dense(64))\n",
    "model.add(Activation('relu'))\n",
    "model.add(Dropout(0.5))\n",
    "model.add(Dense(1))\n",
    "model.add(Activation('sigmoid'))"
   ]
  },
  {
   "cell_type": "code",
   "execution_count": 23,
   "metadata": {
    "scrolled": false
   },
   "outputs": [],
   "source": [
    "model.compile(loss='binary_crossentropy',\n",
    "              optimizer='rmsprop',\n",
    "              metrics=['accuracy'])"
   ]
  },
  {
   "cell_type": "code",
   "execution_count": 24,
   "metadata": {
    "scrolled": false
   },
   "outputs": [],
   "source": [
    "nb_epoch = 16\n",
    "nb_train_samples = 64\n",
    "nb_validation_samples = 32"
   ]
  },
  {
   "cell_type": "code",
   "execution_count": 25,
   "metadata": {
    "scrolled": false
   },
   "outputs": [
    {
     "name": "stderr",
     "output_type": "stream",
     "text": [
      "/usr/local/lib/python3.6/dist-packages/ipykernel_launcher.py:7: UserWarning: The semantics of the Keras 2 argument `steps_per_epoch` is not the same as the Keras 1 argument `samples_per_epoch`. `steps_per_epoch` is the number of batches to draw from the generator at each epoch. Basically steps_per_epoch = samples_per_epoch/batch_size. Similarly `nb_val_samples`->`validation_steps` and `val_samples`->`steps` arguments have changed. Update your method calls accordingly.\n",
      "  import sys\n",
      "/usr/local/lib/python3.6/dist-packages/ipykernel_launcher.py:7: UserWarning: Update your `fit_generator` call to the Keras 2 API: `fit_generator(<keras_pre..., steps_per_epoch=64, validation_data=<keras_pre..., epochs=16, validation_steps=32)`\n",
      "  import sys\n"
     ]
    },
    {
     "name": "stdout",
     "output_type": "stream",
     "text": [
      "Epoch 1/16\n",
      "64/64 [==============================] - 6s 100ms/step - loss: 0.7007 - acc: 0.6462 - val_loss: 0.4614 - val_acc: 0.7263\n",
      "Epoch 2/16\n",
      "64/64 [==============================] - 6s 98ms/step - loss: 0.4434 - acc: 0.8250 - val_loss: 0.7150 - val_acc: 0.6983\n",
      "Epoch 3/16\n",
      "64/64 [==============================] - 6s 97ms/step - loss: 0.2126 - acc: 0.9181 - val_loss: 0.5922 - val_acc: 0.8048\n",
      "Epoch 4/16\n",
      "64/64 [==============================] - 6s 98ms/step - loss: 0.0838 - acc: 0.9702 - val_loss: 1.3792 - val_acc: 0.7586\n",
      "Epoch 5/16\n",
      "64/64 [==============================] - 6s 95ms/step - loss: 0.0462 - acc: 0.9830 - val_loss: 1.7102 - val_acc: 0.7873\n",
      "Epoch 6/16\n",
      "64/64 [==============================] - 6s 90ms/step - loss: 0.0193 - acc: 0.9943 - val_loss: 1.7999 - val_acc: 0.7543\n",
      "Epoch 7/16\n",
      "64/64 [==============================] - 6s 95ms/step - loss: 0.0185 - acc: 0.9948 - val_loss: 1.6481 - val_acc: 0.7996\n",
      "Epoch 8/16\n",
      "64/64 [==============================] - 6s 94ms/step - loss: 0.0046 - acc: 0.9985 - val_loss: 2.3130 - val_acc: 0.7566\n",
      "Epoch 9/16\n",
      "64/64 [==============================] - 6s 92ms/step - loss: 0.0046 - acc: 0.9980 - val_loss: 3.3700 - val_acc: 0.6832\n",
      "Epoch 10/16\n",
      "64/64 [==============================] - 6s 92ms/step - loss: 0.0030 - acc: 0.9995 - val_loss: 2.9537 - val_acc: 0.7939\n",
      "Epoch 11/16\n",
      "64/64 [==============================] - 6s 90ms/step - loss: 0.0018 - acc: 0.9982 - val_loss: 3.1968 - val_acc: 0.7435\n",
      "Epoch 12/16\n",
      "64/64 [==============================] - 6s 91ms/step - loss: 0.0322 - acc: 0.9966 - val_loss: 3.2379 - val_acc: 0.7586\n",
      "Epoch 13/16\n",
      "64/64 [==============================] - 6s 95ms/step - loss: 0.0047 - acc: 0.9985 - val_loss: 3.0458 - val_acc: 0.7654\n",
      "Epoch 14/16\n",
      "64/64 [==============================] - 6s 92ms/step - loss: 3.9623e-04 - acc: 1.0000 - val_loss: 2.5524 - val_acc: 0.7909\n",
      "Epoch 15/16\n",
      "64/64 [==============================] - 6s 94ms/step - loss: 2.6103e-04 - acc: 1.0000 - val_loss: 2.8459 - val_acc: 0.7939\n",
      "Epoch 16/16\n",
      "64/64 [==============================] - 6s 91ms/step - loss: 0.0159 - acc: 0.9975 - val_loss: 2.8695 - val_acc: 0.7759\n"
     ]
    },
    {
     "data": {
      "text/plain": [
       "<keras.callbacks.History at 0x7fd3a1377198>"
      ]
     },
     "execution_count": 25,
     "metadata": {},
     "output_type": "execute_result"
    }
   ],
   "source": [
    "model.fit_generator(\n",
    "        train_generator,\n",
    "#        samples_per_epoch=nb_train_samples,\n",
    "        steps_per_epoch=nb_train_samples,\n",
    "        nb_epoch=nb_epoch,\n",
    "        validation_data=validation_generator,\n",
    "        nb_val_samples=nb_validation_samples)\n",
    "#        validation_steps=nb_validation_samples)"
   ]
  },
  {
   "cell_type": "code",
   "execution_count": 8,
   "metadata": {
    "scrolled": false
   },
   "outputs": [],
   "source": [
    "model.save_weights('models/run2.h5')\n",
    "#model.load_weights('models_trained/basic_cnn_20_epochs.h5')"
   ]
  },
  {
   "cell_type": "code",
   "execution_count": 26,
   "metadata": {
    "scrolled": false
   },
   "outputs": [
    {
     "data": {
      "text/plain": [
       "[2.821621829065783, 0.7801724137931034]"
      ]
     },
     "execution_count": 26,
     "metadata": {},
     "output_type": "execute_result"
    }
   ],
   "source": [
    "#Return loss and accuracy\n",
    "model.evaluate_generator(validation_generator, nb_validation_samples)"
   ]
  },
  {
   "cell_type": "code",
   "execution_count": 10,
   "metadata": {
    "scrolled": false
   },
   "outputs": [
    {
     "name": "stdout",
     "output_type": "stream",
     "text": [
      "1 [[1.]]\n",
      "2 [[0.]]\n",
      "3 [[1.]]\n",
      "4 [[1.]]\n",
      "5 [[0.]]\n",
      "6 [[0.]]\n",
      "7 [[0.]]\n",
      "8 [[1.]]\n",
      "9 [[0.]]\n",
      "10 [[1.]]\n",
      "11 [[1.]]\n",
      "12 [[1.]]\n",
      "13 [[1.]]\n",
      "14 [[1.]]\n",
      "15 [[1.]]\n",
      "16 [[1.]]\n",
      "17 [[1.]]\n",
      "18 [[1.]]\n",
      "19 [[0.]]\n",
      "20 [[0.]]\n",
      "\n",
      "21 [[1.]]\n",
      "22 [[0.]]\n",
      "23 [[0.]]\n",
      "24 [[0.]]\n",
      "25 [[1.3395973e-24]]\n",
      "26 [[0.]]\n",
      "27 [[0.]]\n",
      "28 [[0.]]\n",
      "29 [[0.]]\n",
      "30 [[0.]]\n",
      "31 [[0.]]\n",
      "32 [[0.]]\n",
      "33 [[1.]]\n",
      "34 [[0.]]\n",
      "35 [[0.]]\n",
      "36 [[0.]]\n",
      "37 [[0.]]\n",
      "38 [[0.]]\n",
      "39 [[0.]]\n",
      "40 [[1.]]\n",
      "41 [[0.]]\n",
      "42 [[0.]]\n",
      "43 [[1.]]\n",
      "44 [[1.]]\n",
      "45 [[0.]]\n",
      "46 [[0.]]\n",
      "47 [[0.]]\n",
      "48 [[0.]]\n",
      "49 [[0.]]\n",
      "50 [[0.]]\n",
      "51 [[1.]]\n",
      "52 [[1.]]\n",
      "53 [[0.]]\n",
      "54 [[1.]]\n",
      "55 [[0.]]\n",
      "56 [[1.]]\n",
      "57 [[0.]]\n",
      "58 [[1.]]\n",
      "59 [[0.]]\n",
      "60 [[1.]]\n",
      "61 [[0.]]\n",
      "62 [[0.]]\n",
      "63 [[0.]]\n",
      "64 [[0.]]\n",
      "65 [[1.]]\n",
      "66 [[0.]]\n",
      "67 [[0.]]\n",
      "68 [[1.]]\n",
      "69 [[0.]]\n",
      "70 [[0.]]\n",
      "71 [[1.]]\n",
      "72 [[3.3942145e-38]]\n"
     ]
    }
   ],
   "source": [
    "#img = image.load_img(\"data/validation/pulsar/1.png\",target_size=(160,275))\n",
    "for i in range(1,21):\n",
    "    img = image.load_img(\"data/validation/pulsar/\"+str(i)+\".png\",target_size=(160,275))\n",
    "    x = image.img_to_array(img)\n",
    "    x = np.expand_dims(x, axis=0)\n",
    "    #x = preprocess_input(x)\n",
    "    prediction = model.predict(x)\n",
    "    print(i,prediction)\n",
    "print()\n",
    "for i in range(21,73):\n",
    "    img = image.load_img(\"data/validation/noise/\"+str(i)+\".png\",target_size=(160,275))\n",
    "    x = image.img_to_array(img)\n",
    "    x = np.expand_dims(x, axis=0)\n",
    "    #x = preprocess_input(x)\n",
    "    prediction = model.predict(x)\n",
    "    print(i,prediction)"
   ]
  }
 ],
 "metadata": {
  "kernelspec": {
   "display_name": "Python 3",
   "language": "python",
   "name": "python3"
  },
  "language_info": {
   "codemirror_mode": {
    "name": "ipython",
    "version": 3
   },
   "file_extension": ".py",
   "mimetype": "text/x-python",
   "name": "python",
   "nbconvert_exporter": "python",
   "pygments_lexer": "ipython3",
   "version": "3.6.8"
  }
 },
 "nbformat": 4,
 "nbformat_minor": 2
}
