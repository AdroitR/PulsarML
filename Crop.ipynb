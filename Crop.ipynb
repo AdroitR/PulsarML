{
 "cells": [
  {
   "cell_type": "code",
   "execution_count": 1,
   "metadata": {},
   "outputs": [],
   "source": [
    "import cv2\n",
    "import os\n",
    "import numpy as np"
   ]
  },
  {
   "cell_type": "code",
   "execution_count": 29,
   "metadata": {},
   "outputs": [],
   "source": [
    "\n",
    "y1=164\n",
    "h1=210\n",
    "x1=315\n",
    "w1=160\n",
    "\n",
    "y2=425\n",
    "h2=65\n",
    "x2=315\n",
    "w2=160\n",
    "\n",
    "y3=164\n",
    "h3=275\n",
    "x3=35\n",
    "w3=150\n",
    "\n",
    "img = cv2.imread(\"pulsar1.png\")\n",
    "img = cv2.resize(img, (726, 544))\n",
    "crop_img1 = img[y1:y1+h1, x1:x1+w1]\n",
    "crop_img2 = img[y2:y2+h2, x2:x2+w2]\n",
    "crop_img3 = img[y3:y3+h3, x3:x3+w3]\n",
    "crop_img11 = np.concatenate((crop_img1, crop_img2), axis=0)\n",
    "crop_img12 = np.concatenate((crop_img3, crop_img11), axis=1)"
   ]
  },
  {
   "cell_type": "code",
   "execution_count": 31,
   "metadata": {},
   "outputs": [
    {
     "data": {
      "text/plain": [
       "-1"
      ]
     },
     "execution_count": 31,
     "metadata": {},
     "output_type": "execute_result"
    }
   ],
   "source": [
    "cv2.imshow(\"cropped\", crop_img12)\n",
    "cv2.waitKey(1)"
   ]
  },
  {
   "cell_type": "code",
   "execution_count": 32,
   "metadata": {},
   "outputs": [],
   "source": [
    "cv2.destroyAllWindows()"
   ]
  },
  {
   "cell_type": "code",
   "execution_count": 33,
   "metadata": {},
   "outputs": [
    {
     "data": {
      "text/plain": [
       "True"
      ]
     },
     "execution_count": 33,
     "metadata": {},
     "output_type": "execute_result"
    }
   ],
   "source": [
    "cv2.imwrite(\"test.png\",crop_img12)"
   ]
  },
  {
   "cell_type": "code",
   "execution_count": 37,
   "metadata": {},
   "outputs": [],
   "source": [
    "source = \"dataOrig\"\n",
    "end = \"data\"\n",
    "\n",
    "dirList = [\"/validation/pulsar/\",\n",
    "           \"/validation/RFI/\",\n",
    "           \"/validation/noise/\",\n",
    "           \"/validation/harmonics/\",\n",
    "           \"/train/pulsar/\",\n",
    "           \"/train/RFI/\",\n",
    "           \"/train/noise/\",\n",
    "           \"/train/harmonics/\"]\n",
    "\n",
    "y1=164\n",
    "h1=210\n",
    "x1=315\n",
    "w1=160\n",
    "\n",
    "y2=425\n",
    "h2=65\n",
    "x2=315\n",
    "w2=160\n",
    "\n",
    "y3=164\n",
    "h3=275\n",
    "x3=35\n",
    "w3=150\n",
    "\n",
    "i = 0\n",
    "\n",
    "for dir1 in dirList:\n",
    "    directory = os.fsencode(source+dir1)\n",
    "    #i = 0\n",
    "    for file in os.listdir(directory):\n",
    "        filename = os.fsdecode(file)\n",
    "        if filename.endswith(\".png\"): \n",
    "            i=i+1\n",
    "            img = cv2.imread(source+dir1+filename)\n",
    "            img = cv2.resize(img, (726, 544))\n",
    "            crop_img1 = img[y1:y1+h1, x1:x1+w1]\n",
    "            crop_img2 = img[y2:y2+h2, x2:x2+w2]\n",
    "            crop_img3 = img[y3:y3+h3, x3:x3+w3]\n",
    "            crop_img11 = np.concatenate((crop_img1, crop_img2), axis=0)\n",
    "            crop_img12 = np.concatenate((crop_img3, crop_img11), axis=1)\n",
    "            cv2.imwrite(end+dir1+str(i)+\".png\",crop_img12)\n",
    "            continue\n",
    "        else:\n",
    "            continue"
   ]
  },
  {
   "cell_type": "code",
   "execution_count": null,
   "metadata": {},
   "outputs": [],
   "source": []
  }
 ],
 "metadata": {
  "kernelspec": {
   "display_name": "Python 3",
   "language": "python",
   "name": "python3"
  },
  "language_info": {
   "codemirror_mode": {
    "name": "ipython",
    "version": 3
   },
   "file_extension": ".py",
   "mimetype": "text/x-python",
   "name": "python",
   "nbconvert_exporter": "python",
   "pygments_lexer": "ipython3",
   "version": "3.6.5"
  }
 },
 "nbformat": 4,
 "nbformat_minor": 2
}
